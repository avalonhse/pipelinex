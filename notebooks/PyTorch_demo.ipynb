{
 "cells": [
  {
   "cell_type": "code",
   "execution_count": 1,
   "metadata": {},
   "outputs": [
    {
     "output_type": "stream",
     "name": "stdout",
     "text": "### PipelineX version:  0.2.0\n"
    }
   ],
   "source": [
    "# Install pipelinex if not installed. \n",
    "\n",
    "try: \n",
    "    import pipelinex\n",
    "except:\n",
    "    \"\"\" Install PipelineX from PyPI \"\"\"\n",
    "    !pip install pipelinex\n",
    "    \n",
    "    \"\"\" Alternatively, you can install from the GitHub repository \"\"\" \n",
    "    # !pip install git+https://github.com/Minyus/pipelinex.git\n",
    "\n",
    "    import pipelinex\n",
    "\n",
    "print(\"### PipelineX version: \", pipelinex.__version__)"
   ]
  },
  {
   "cell_type": "code",
   "execution_count": 2,
   "metadata": {},
   "outputs": [
    {
     "output_type": "stream",
     "name": "stdout",
     "text": "### model object by hard-coding ###\nSequential(\n  (0): Conv2d(3, 16, kernel_size=[3, 3], stride=(1, 1))\n  (1): ReLU()\n)\n"
    }
   ],
   "source": [
    "from torch.nn import Sequential, Conv2d, ReLU\n",
    "\n",
    "model = Sequential(\n",
    "    Conv2d(in_channels=3, out_channels=16, kernel_size=[3, 3]),\n",
    "    ReLU(),\n",
    ")\n",
    "\n",
    "print(\"### model object by hard-coding ###\")\n",
    "print(model)"
   ]
  },
  {
   "cell_type": "code",
   "execution_count": 3,
   "metadata": {},
   "outputs": [
    {
     "output_type": "stream",
     "name": "stdout",
     "text": "### Before ###\n{'=': 'torch.nn.Sequential',\n '_': [{'=': 'torch.nn.Conv2d',\n        'in_channels': 3,\n        'kernel_size': [3, 3],\n        'out_channels': 16},\n       {'=': 'torch.nn.ReLU', '_': None}]}\n\n### After ###\nSequential(\n  (0): Conv2d(3, 16, kernel_size=[3, 3], stride=(1, 1))\n  (1): ReLU()\n)\n"
    }
   ],
   "source": [
    "from pipelinex import HatchDict\n",
    "import yaml\n",
    "from pprint import pprint  # pretty-print for clearer look\n",
    "\n",
    "# Read parameters dict from a YAML file in actual use\n",
    "params_yaml=\"\"\"\n",
    "model:\n",
    "  =: torch.nn.Sequential\n",
    "  _:\n",
    "    - {=: torch.nn.Conv2d, in_channels: 3, out_channels: 16, kernel_size: [3, 3]}\n",
    "    - {=: torch.nn.ReLU, _: }\n",
    "\"\"\"\n",
    "parameters = yaml.safe_load(params_yaml)\n",
    "\n",
    "model_dict = parameters.get(\"model\")\n",
    "\n",
    "print(\"### Before ###\")\n",
    "pprint(model_dict)\n",
    "\n",
    "model = HatchDict(parameters).get(\"model\")\n",
    "\n",
    "print(\"\\n### After ###\")\n",
    "print(model)"
   ]
  },
  {
   "cell_type": "code",
   "execution_count": 4,
   "metadata": {},
   "outputs": [
    {
     "output_type": "stream",
     "name": "stdout",
     "text": "### model object by hard-coding ###\nSequential(\n  (0): ModuleConcat(\n    (0): Conv2d(3, 16, kernel_size=[3, 3], stride=[2, 2], padding=[1, 1])\n    (1): AvgPool2d(kernel_size=[3, 3], stride=[2, 2], padding=[1, 1])\n  )\n  (1): ReLU()\n)\n"
    }
   ],
   "source": [
    "from torch.nn import Sequential, Conv2d, AvgPool2d, ReLU\n",
    "from pipelinex import ModuleConcat\n",
    "\n",
    "model = Sequential(\n",
    "    ModuleConcat(\n",
    "        Conv2d(in_channels=3, out_channels=16, kernel_size=[3, 3], stride=[2, 2], padding=[1, 1]),\n",
    "        AvgPool2d(kernel_size=[3, 3], stride=[2, 2], padding=[1, 1]),\n",
    "    ),\n",
    "    ReLU(),\n",
    ")\n",
    "print(\"### model object by hard-coding ###\")\n",
    "print(model)"
   ]
  },
  {
   "cell_type": "code",
   "execution_count": 5,
   "metadata": {},
   "outputs": [
    {
     "output_type": "stream",
     "name": "stdout",
     "text": "### Before ###\n{'=': 'torch.nn.Sequential',\n '_': [{'=': 'pipelinex.ModuleConcat',\n        '_': [{'=': 'torch.nn.Conv2d',\n               'in_channels': 3,\n               'kernel_size': [3, 3],\n               'out_channels': 16,\n               'padding': [1, 1],\n               'stride': [2, 2]},\n              {'=': 'torch.nn.AvgPool2d',\n               'kernel_size': [3, 3],\n               'padding': [1, 1],\n               'stride': [2, 2]}]},\n       {'=': 'torch.nn.ReLU', '_': None}]}\n\n### After ###\nSequential(\n  (0): ModuleConcat(\n    (0): Conv2d(3, 16, kernel_size=[3, 3], stride=[2, 2], padding=[1, 1])\n    (1): AvgPool2d(kernel_size=[3, 3], stride=[2, 2], padding=[1, 1])\n  )\n  (1): ReLU()\n)\n"
    }
   ],
   "source": [
    "from pipelinex import HatchDict\n",
    "import yaml\n",
    "from pprint import pprint  # pretty-print for clearer look\n",
    "\n",
    "# Read parameters dict from a YAML file in actual use\n",
    "params_yaml=\"\"\"\n",
    "model:\n",
    "  =: torch.nn.Sequential\n",
    "  _:\n",
    "    - =: pipelinex.ModuleConcat\n",
    "      _:\n",
    "        - {=: torch.nn.Conv2d, in_channels: 3, out_channels: 16, kernel_size: [3, 3], stride: [2, 2], padding: [1, 1]}\n",
    "        - {=: torch.nn.AvgPool2d, kernel_size: [3, 3], stride: [2, 2], padding: [1, 1]}\n",
    "    - {=: torch.nn.ReLU, _: }\n",
    "\"\"\"\n",
    "parameters = yaml.safe_load(params_yaml)\n",
    "\n",
    "model_dict = parameters.get(\"model\")\n",
    "\n",
    "print(\"### Before ###\")\n",
    "pprint(model_dict)\n",
    "\n",
    "model = HatchDict(parameters).get(\"model\")\n",
    "\n",
    "print(\"\\n### After ###\")\n",
    "print(model)"
   ]
  }
 ],
 "metadata": {
  "language_info": {
   "codemirror_mode": {
    "name": "ipython",
    "version": 3
   },
   "file_extension": ".py",
   "mimetype": "text/x-python",
   "name": "python",
   "nbconvert_exporter": "python",
   "pygments_lexer": "ipython3",
   "version": "3.6.8-final"
  },
  "orig_nbformat": 2,
  "kernelspec": {
   "name": "python36864bit6efd8c03ac544220bb4e419e6d634f47",
   "display_name": "Python 3.6.8 64-bit"
  }
 },
 "nbformat": 4,
 "nbformat_minor": 2
}