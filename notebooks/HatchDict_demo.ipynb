{
 "cells": [
  {
   "cell_type": "code",
   "execution_count": 1,
   "metadata": {},
   "outputs": [
    {
     "output_type": "stream",
     "name": "stdout",
     "text": "### PipelineX version:  0.2.1\n"
    }
   ],
   "source": [
    "# Install pipelinex if not installed. \n",
    "\n",
    "try: \n",
    "    import pipelinex\n",
    "except:\n",
    "    \"\"\" Install PipelineX from PyPI \"\"\"\n",
    "    !pip install pipelinex\n",
    "    \n",
    "    \"\"\" Alternatively, you can install from the GitHub repository \"\"\" \n",
    "    # !pip install git+https://github.com/Minyus/pipelinex.git\n",
    "\n",
    "    import pipelinex\n",
    "\n",
    "print(\"### PipelineX version: \", pipelinex.__version__)"
   ]
  },
  {
   "cell_type": "code",
   "execution_count": 2,
   "metadata": {},
   "outputs": [
    {
     "output_type": "stream",
     "name": "stdout",
     "text": "### model object by hard-coding ###\nLogisticRegression(C=1.0, class_weight=None, dual=False, fit_intercept=True,\n                   intercept_scaling=1, l1_ratio=None, max_iter=100,\n                   multi_class='warn', n_jobs=None, penalty='l2',\n                   random_state=42, solver='warn', tol=0.0001, verbose=0,\n                   warm_start=False)\n"
    }
   ],
   "source": [
    "from sklearn.linear_model import LogisticRegression\n",
    "\n",
    "model = LogisticRegression(C=1.0, random_state=42, max_iter=100)\n",
    "\n",
    "print(\"### model object by hard-coding ###\")\n",
    "print(model)"
   ]
  },
  {
   "cell_type": "code",
   "execution_count": 3,
   "metadata": {},
   "outputs": [
    {
     "output_type": "stream",
     "name": "stdout",
     "text": "### Before ###\n{'model_kind': 'LogisticRegression',\n 'model_params': {'C': 1.23456, 'max_iter': 987, 'random_state': 42}}\n\n### After ###\nLogisticRegression(C=1.23456, class_weight=None, dual=False, fit_intercept=True,\n                   intercept_scaling=1, l1_ratio=None, max_iter=987,\n                   multi_class='warn', n_jobs=None, penalty='l2',\n                   random_state=42, solver='warn', tol=0.0001, verbose=0,\n                   warm_start=False)\n"
    }
   ],
   "source": [
    "import yaml\n",
    "from pprint import pprint  # pretty-print for clearer look\n",
    "\n",
    "\n",
    "# Read parameters dict from a YAML file in actual use\n",
    "params_yaml = \"\"\"\n",
    "model_kind: LogisticRegression\n",
    "model_params:\n",
    "  C: 1.23456\n",
    "  max_iter: 987\n",
    "  random_state: 42\n",
    "\"\"\"\n",
    "parameters = yaml.safe_load(params_yaml)\n",
    "\n",
    "print(\"### Before ###\")\n",
    "pprint(parameters)\n",
    "\n",
    "model_kind = parameters.get(\"model_kind\")\n",
    "model_params_dict = parameters.get(\"model_params\")\n",
    "\n",
    "if model_kind == \"LogisticRegression\":\n",
    "    from sklearn.linear_model import LogisticRegression\n",
    "    model = LogisticRegression(**model_params_dict)\n",
    "\n",
    "elif model_kind == \"DecisionTree\":\n",
    "    from sklearn.tree import DecisionTreeClassifier\n",
    "    model = DecisionTreeClassifier(**model_params_dict)\n",
    "\n",
    "elif model_kind == \"RandomForest\":\n",
    "    from sklearn.ensemble import RandomForestClassifier\n",
    "    model = RandomForestClassifier(**model_params_dict)\n",
    "\n",
    "else:\n",
    "    raise ValueError(\"Unsupported model_kind.\")\n",
    "\n",
    "print(\"\\n### After ###\")\n",
    "print(model)\n"
   ]
  },
  {
   "cell_type": "code",
   "execution_count": 4,
   "metadata": {},
   "outputs": [
    {
     "output_type": "stream",
     "name": "stdout",
     "text": "### model object by PyYAML's UnsafeLoader ###\nLogisticRegression(C=1.23456, class_weight=None, dual=None, fit_intercept=None,\n                   intercept_scaling=None, l1_ratio=None, max_iter=987,\n                   multi_class=None, n_jobs=None, penalty=None, random_state=42,\n                   solver=None, tol=None, verbose=None, warm_start=None)\n"
    }
   ],
   "source": [
    "import yaml\n",
    "# You do not need `import sklearn.linear_model` using PyYAML's UnsafeLoader\n",
    "\n",
    "\n",
    "# Read parameters dict from a YAML file in actual use\n",
    "params_yaml = \"\"\"\n",
    "model: \n",
    "  !!python/object:sklearn.linear_model.LogisticRegression\n",
    "  C: 1.23456\n",
    "  max_iter: 987\n",
    "  random_state: 42\n",
    "\"\"\"\n",
    "\n",
    "try:\n",
    "    parameters = yaml.unsafe_load(params_yaml)  # unsafe_load required for PyYAML 5.1 or later\n",
    "except:\n",
    "    parameters = yaml.load(params_yaml)\n",
    "\n",
    "model = parameters.get(\"model\")\n",
    "\n",
    "print(\"### model object by PyYAML's UnsafeLoader ###\")\n",
    "print(model)\n"
   ]
  },
  {
   "cell_type": "code",
   "execution_count": 5,
   "metadata": {},
   "outputs": [
    {
     "output_type": "stream",
     "name": "stdout",
     "text": "### Before ###\n{'=': 'sklearn.linear_model.LogisticRegression',\n 'C': 1.23456,\n 'max_iter': 987,\n 'random_state': 42}\n\n### After ###\nLogisticRegression(C=1.23456, class_weight=None, dual=False, fit_intercept=True,\n                   intercept_scaling=1, l1_ratio=None, max_iter=987,\n                   multi_class='warn', n_jobs=None, penalty='l2',\n                   random_state=42, solver='warn', tol=0.0001, verbose=0,\n                   warm_start=False)\n"
    }
   ],
   "source": [
    "from pipelinex import HatchDict\n",
    "import yaml\n",
    "from pprint import pprint  # pretty-print for clearer look\n",
    "# You do not need `import sklearn.linear_model` using PipelineX's HatchDict\n",
    "\n",
    "# Read parameters dict from a YAML file in actual use\n",
    "params_yaml=\"\"\"\n",
    "model:\n",
    "  =: sklearn.linear_model.LogisticRegression\n",
    "  C: 1.23456\n",
    "  max_iter: 987\n",
    "  random_state: 42\n",
    "\"\"\"\n",
    "parameters = yaml.safe_load(params_yaml)\n",
    "\n",
    "model_dict = parameters.get(\"model\")\n",
    "\n",
    "print(\"### Before ###\")\n",
    "pprint(model_dict)\n",
    "\n",
    "model = HatchDict(parameters).get(\"model\")\n",
    "\n",
    "print(\"\\n### After ###\")\n",
    "print(model)"
   ]
  },
  {
   "cell_type": "code",
   "execution_count": 6,
   "metadata": {},
   "outputs": [
    {
     "output_type": "stream",
     "name": "stdout",
     "text": "### Conversion by YAML's Anchor&Alias feature ###\n{'train_batch_size': 32, 'val_batch_size': 32}\n"
    }
   ],
   "source": [
    "import yaml\n",
    "from pprint import pprint  # pretty-print for clearer look\n",
    "\n",
    "# Read parameters dict from a YAML file in actual use\n",
    "params_yaml=\"\"\"\n",
    "train_params:\n",
    "  train_batch_size: &batch_size 32\n",
    "  val_batch_size: *batch_size\n",
    "\"\"\"\n",
    "parameters = yaml.safe_load(params_yaml)\n",
    "\n",
    "train_params_dict = parameters.get(\"train_params\")\n",
    "\n",
    "print(\"### Conversion by YAML's Anchor&Alias feature ###\")\n",
    "pprint(train_params_dict)"
   ]
  },
  {
   "cell_type": "code",
   "execution_count": 7,
   "metadata": {},
   "outputs": [
    {
     "output_type": "stream",
     "name": "stdout",
     "text": "### Before ###\n{'train_batch_size': 32,\n 'val_batch_size': {'$': 'train_params.train_batch_size'}}\n\n### After ###\n{'train_batch_size': 32, 'val_batch_size': 32}\n"
    }
   ],
   "source": [
    "from pipelinex import HatchDict\n",
    "import yaml\n",
    "from pprint import pprint  # pretty-print for clearer look\n",
    "\n",
    "# Read parameters dict from a YAML file in actual use\n",
    "params_yaml=\"\"\"\n",
    "train_params:\n",
    "  train_batch_size: 32\n",
    "  val_batch_size: {$: train_params.train_batch_size}\n",
    "\"\"\"\n",
    "parameters = yaml.safe_load(params_yaml)\n",
    "\n",
    "train_params_dict = parameters.get(\"train_params\")\n",
    "\n",
    "print(\"### Before ###\")\n",
    "pprint(train_params_dict)\n",
    "\n",
    "train_params = HatchDict(parameters).get(\"train_params\")\n",
    "\n",
    "print(\"\\n### After ###\")\n",
    "pprint(train_params)"
   ]
  },
  {
   "cell_type": "code",
   "execution_count": 8,
   "metadata": {},
   "outputs": [
    {
     "output_type": "stream",
     "name": "stdout",
     "text": "### Before ###\n{'param1_tuple_python': '(1, 2, 3)',\n 'param1_tuple_yaml': (1, 2, 3),\n 'param2_formula_python': '(2 + 3)',\n 'param3_neg_inf_python': '(float(\"-Inf\"))',\n 'param3_neg_inf_yaml': -inf,\n 'param4_float_1e9_python': '(1e9)',\n 'param4_float_1e9_yaml': 1000000000.0,\n 'param5_int_1e9_python': '(int(1e9))'}\n\n### After ###\n{'param1_tuple_python': (1, 2, 3),\n 'param1_tuple_yaml': (1, 2, 3),\n 'param2_formula_python': 5,\n 'param3_neg_inf_python': -inf,\n 'param3_neg_inf_yaml': -inf,\n 'param4_float_1e9_python': 1000000000.0,\n 'param4_float_1e9_yaml': 1000000000.0,\n 'param5_int_1e9_python': 1000000000}\n"
    }
   ],
   "source": [
    "from pipelinex import HatchDict\n",
    "import yaml\n",
    "from pprint import pprint  # pretty-print for clearer look\n",
    "\n",
    "# Read parameters dict from a YAML file in actual use\n",
    "params_yaml = \"\"\"\n",
    "train_params:\n",
    "  param1_tuple_python: (1, 2, 3)\n",
    "  param1_tuple_yaml: !!python/tuple [1, 2, 3]\n",
    "  param2_formula_python: (2 + 3)\n",
    "  param3_neg_inf_python: (float(\"-Inf\"))\n",
    "  param3_neg_inf_yaml: -.Inf\n",
    "  param4_float_1e9_python: (1e9)\n",
    "  param4_float_1e9_yaml: 1.0e+09\n",
    "  param5_int_1e9_python: (int(1e9))\n",
    "\"\"\"\n",
    "parameters = yaml.load(params_yaml)\n",
    "\n",
    "train_params_raw = parameters.get(\"train_params\")\n",
    "\n",
    "print(\"### Before ###\")\n",
    "pprint(train_params_raw)\n",
    "\n",
    "train_params_converted = HatchDict(parameters).get(\"train_params\")\n",
    "\n",
    "print(\"\\n### After ###\")\n",
    "pprint(train_params_converted)"
   ]
  }
 ],
 "metadata": {
  "language_info": {
   "name": "python",
   "codemirror_mode": {
    "name": "ipython",
    "version": 3
   },
   "version": "3.6.8-final"
  },
  "orig_nbformat": 2,
  "file_extension": ".py",
  "mimetype": "text/x-python",
  "name": "python",
  "npconvert_exporter": "python",
  "pygments_lexer": "ipython3",
  "version": 3,
  "kernelspec": {
   "name": "python36864bit6efd8c03ac544220bb4e419e6d634f47",
   "display_name": "Python 3.6.8 64-bit"
  }
 },
 "nbformat": 4,
 "nbformat_minor": 2
}