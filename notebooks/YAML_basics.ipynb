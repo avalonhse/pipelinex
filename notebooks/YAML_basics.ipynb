{
 "cells": [
  {
   "cell_type": "code",
   "execution_count": 1,
   "metadata": {},
   "outputs": [
    {
     "output_type": "stream",
     "name": "stdout",
     "text": "### 2 styles in YAML ###\n{'block_style_demo': {'key1': 'value1', 'key2': 'value2'},\n 'flow_style_demo': {'key1': 'value1', 'key2': 'value2'}}\n"
    }
   ],
   "source": [
    "import yaml\n",
    "from pprint import pprint  # pretty-print for clearer look\n",
    "\n",
    "# Read parameters dict from a YAML file in actual use\n",
    "params_yaml=\"\"\"\n",
    "block_style_demo:\n",
    "  key1: value1\n",
    "  key2: value2\n",
    "flow_style_demo: {key1: value1, key2: value2}\n",
    "\"\"\"\n",
    "parameters = yaml.safe_load(params_yaml)\n",
    "\n",
    "print(\"### 2 styles in YAML ###\")\n",
    "pprint(parameters)\n"
   ]
  },
  {
   "cell_type": "code",
   "execution_count": null,
   "metadata": {},
   "outputs": [],
   "source": []
  }
 ],
 "metadata": {
  "language_info": {
   "codemirror_mode": {
    "name": "ipython",
    "version": 3
   },
   "file_extension": ".py",
   "mimetype": "text/x-python",
   "name": "python",
   "nbconvert_exporter": "python",
   "pygments_lexer": "ipython3",
   "version": "3.6.8-final"
  },
  "orig_nbformat": 2,
  "kernelspec": {
   "name": "python36864bit6efd8c03ac544220bb4e419e6d634f47",
   "display_name": "Python 3.6.8 64-bit"
  }
 },
 "nbformat": 4,
 "nbformat_minor": 2
}