{
 "cells": [
  {
   "cell_type": "code",
   "execution_count": 1,
   "metadata": {},
   "outputs": [],
   "source": [
    "# Install memory_profiler if not installed. \n",
    "try: \n",
    "    import memory_profiler\n",
    "except:\n",
    "    !pip install memory_profiler\n",
    "    import memory_profiler"
   ]
  },
  {
   "cell_type": "code",
   "execution_count": 2,
   "metadata": {},
   "outputs": [],
   "source": [
    "# Install pynvml if not installed. \n",
    "try: \n",
    "    import pynvml\n",
    "except:\n",
    "    !pip install pynvml\n",
    "    import pynvml"
   ]
  },
  {
   "cell_type": "code",
   "execution_count": 3,
   "metadata": {},
   "outputs": [],
   "source": [
    "# Install PipelineX if not installed. \n",
    "\n",
    "try: \n",
    "    import pipelinex\n",
    "except:\n",
    "    \"\"\" Install PipelineX from PyPI \"\"\"\n",
    "    !pip install pipelinex\n",
    "    \n",
    "    \"\"\" Alternatively, you can install from the GitHub repository \"\"\" \n",
    "    # !pip install git+https://github.com/Minyus/pipelinex.git\n",
    "\n",
    "    import pipelinex\n",
    "\n",
    "print(\"### PipelineX version: \", pipelinex.__version__)"
   ]
  },
  {
   "cell_type": "code",
   "execution_count": 4,
   "metadata": {},
   "outputs": [
    {
     "output_type": "stream",
     "name": "stderr",
     "text": "INFO:pipelinex.decorators.decorators:Running 'foo_func' took 549ms [0.549s]\nINFO:pipelinex.decorators.memory_profiler:Running 'foo_func' consumed 589.80MiB memory at peak time\nINFO:pipelinex.decorators.nvml_profiler:Ran: 'foo_func', NVML returned: {'Exception': 'NVML Shared Library Not Found'}, Used memory diff: []\n"
    }
   ],
   "source": [
    "from pipelinex import log_time\n",
    "from pipelinex import mem_profile  # Need to install memory_profiler for memory profiling\n",
    "from pipelinex import nvml_profile  # Need to install pynvml for NVIDIA GPU profiling \n",
    "from time import sleep\n",
    "import logging\n",
    "\n",
    "logging.basicConfig(level=logging.INFO)\n",
    "\n",
    "@nvml_profile\n",
    "@mem_profile\n",
    "@log_time\n",
    "def foo_func(i=1):\n",
    "    sleep(0.5)  # Needed to avoid the bug reported at https://github.com/pythonprofilers/memory_profiler/issues/216\n",
    "    return \"a\" * i\n",
    "\n",
    "output = foo_func(100_000_000)"
   ]
  }
 ],
 "metadata": {
  "language_info": {
   "name": "python",
   "codemirror_mode": {
    "name": "ipython",
    "version": 3
   },
   "version": "3.6.8-final"
  },
  "orig_nbformat": 2,
  "file_extension": ".py",
  "mimetype": "text/x-python",
  "name": "python",
  "npconvert_exporter": "python",
  "pygments_lexer": "ipython3",
  "version": 3,
  "kernelspec": {
   "name": "python36864bit6efd8c03ac544220bb4e419e6d634f47",
   "display_name": "Python 3.6.8 64-bit"
  }
 },
 "nbformat": 4,
 "nbformat_minor": 2
}